{
 "cells": [
  {
   "cell_type": "code",
   "execution_count": 1,
   "metadata": {},
   "outputs": [],
   "source": [
    "import os\n",
    "from dotenv import load_dotenv\n",
    "load_dotenv()\n",
    "\n",
    "os.environ[\"LANGCHAIN_TRACING_V2\"]=\"true\"\n",
    "os.environ[\"LANGCHAIN_API_KEY\"]=os.getenv(\"LANGCHAIN_API_KEY\")"
   ]
  },
  {
   "cell_type": "code",
   "execution_count": 2,
   "metadata": {},
   "outputs": [],
   "source": [
    "## Pdf reader\n",
    "from langchain_community.document_loaders import PyPDFLoader\n",
    "loader=PyPDFLoader('faq.pdf')\n",
    "docs=loader.load()"
   ]
  },
  {
   "cell_type": "code",
   "execution_count": 3,
   "metadata": {},
   "outputs": [
    {
     "data": {
      "text/plain": [
       "[Document(page_content='Q: What is stpl\\nA: A Short Term Personal Loan (STPL), also known as a Dial for Cash facility, is an exclusive\\nprogram under which you can get a pre-approved loan directly into your savings bank account. It\\nallows repayment in easy EMIs (Equated Monthly Installments). Some benefits of STPL include:\\n1. Pre-approved limit: You will receive the pre-approved amount, subject to eligibility criteria and\\napproval from the lending institution.\\n2. No documentation required: The process is relatively straightforward compared to traditional loan\\napplications that typically require extensive paperwork.\\n3. Paperless money remittance: Funds are transferred directly into your bank account without the\\nneed for physical cash transfer or processing, making it convenient and fast.\\n4. Nominal interest rate and processing fees: STPL often offers lower interest rates compared to\\nother loan products, with minimal or reduced processing fees.', metadata={'source': 'faq.pdf', 'page': 0}),\n",
       " Document(page_content='4. Nominal interest rate and processing fees: STPL often offers lower interest rates compared to\\nother loan products, with minimal or reduced processing fees. \\n5. Apply now: You can apply for an STPL by contacting the lending institution that offers this facility.\\nFor more information about their specific terms and conditions, you may click on a provided link or\\ndirectly reach out to them.\\nQ: Benifit of stpl\\nA: Based on the provided comments, some benefits of a short-term personal loan (STPL) include:\\n1. Pre-approved limit - You have an approved credit amount that can be accessed as per your\\nneeds without waiting for approval with every transaction.\\n2. No documentation required - The process is simplified and does not require extensive paperwork,\\nmaking it quicker to obtain a loan.\\n3. Paperless money remittance - This benefit indicates the ease of transferring funds through digital\\nmeans rather than dealing with physical documents or cash transactions.', metadata={'source': 'faq.pdf', 'page': 0}),\n",
       " Document(page_content='3. Paperless money remittance - This benefit indicates the ease of transferring funds through digital\\nmeans rather than dealing with physical documents or cash transactions.\\n4. Nominal interest rate and processing fees - STPLs generally have lower interest rates and', metadata={'source': 'faq.pdf', 'page': 0}),\n",
       " Document(page_content=\"minimal processing charges, making them cost-effective for borrowers.\\nIt's important to note that these benefits may vary depending on the specific STPL program and\\nfinancial institution offering it.\\nQ: How to apply stpl\\nA: To apply for a Short Term Personal Loan (STPL), also known as Dial for Cash, follow these steps\\nbased on the provided comments:\\n1. Check eligibility and pre-approved limit: First, ensure that you are eligible for this exclusive\\nprogram under which STPL is offered by your bank. This might depend on factors such as credit\\nscore and existing relationship with the bank.\\n2. Obtain no documentation required: Since there's no requirement for extensive paperwork to apply\\nfor an STPL, it is advisable to gather any necessary documents that can support your application\\n(e.g., proof of income or employment).\\n3. Visit a nearby branch or dial the bank's helpline number: To initiate the process and get a\", metadata={'source': 'faq.pdf', 'page': 1}),\n",
       " Document(page_content=\"(e.g., proof of income or employment).\\n3. Visit a nearby branch or dial the bank's helpline number: To initiate the process and get a\\npre-approved loan amount directly into your savings account, contact your bank through their\\nphysical branches or by calling their STPL helpline. Some banks offer this service via phone (Dial for\\nCash).\\n4. Fill in an application form: Complete any required application forms provided by the bank to apply\\nfor STPL. The comments suggest that minimal documentation may be necessary, but it's always\\nbest to follow your bank's instructions.\\n5. Submit information and wait for approval: Submit all relevant details requested by the bank along\", metadata={'source': 'faq.pdf', 'page': 1})]"
      ]
     },
     "execution_count": 3,
     "metadata": {},
     "output_type": "execute_result"
    }
   ],
   "source": [
    "from langchain.text_splitter import RecursiveCharacterTextSplitter\n",
    "text_splitter=RecursiveCharacterTextSplitter(chunk_size=1000,chunk_overlap=200)\n",
    "documents=text_splitter.split_documents(docs)\n",
    "documents[:5]"
   ]
  },
  {
   "cell_type": "code",
   "execution_count": 5,
   "metadata": {},
   "outputs": [],
   "source": [
    "#Vector Store Conversion\n",
    "from langchain_community.embeddings import OllamaEmbeddings\n",
    "embeddings = OllamaEmbeddings(model=\"llama3\")\n",
    "from langchain_community.vectorstores import Chroma\n",
    "db = Chroma.from_documents(documents,embeddings)\n"
   ]
  },
  {
   "cell_type": "code",
   "execution_count": 6,
   "metadata": {},
   "outputs": [
    {
     "data": {
      "text/plain": [
       "<langchain_community.vectorstores.chroma.Chroma at 0x10511d690>"
      ]
     },
     "execution_count": 6,
     "metadata": {},
     "output_type": "execute_result"
    }
   ],
   "source": [
    "db"
   ]
  },
  {
   "cell_type": "code",
   "execution_count": 7,
   "metadata": {},
   "outputs": [
    {
     "data": {
      "text/plain": [
       "'A: You will receive the short term personal loan (STPL) money directly into your savings bank\\naccount. This is part of an exclusive program that allows you to access a pre-approved loan amount,\\neven over and above your credit limit, with easy EMIs. The process typically does not require\\nextensive documentation, offers paperless remittance, and includes nominal interest rates and\\nprocessing fees. To apply for the STPL, you can follow the provided link or contact the relevant\\ninstitution directly.'"
      ]
     },
     "execution_count": 7,
     "metadata": {},
     "output_type": "execute_result"
    }
   ],
   "source": [
    "query=\"What is STPL\"\n",
    "result=db.similarity_search(query)\n",
    "result[0].page_content"
   ]
  },
  {
   "cell_type": "code",
   "execution_count": 8,
   "metadata": {},
   "outputs": [],
   "source": [
    "## Design ChatPrompt Template\n",
    "from langchain_core.prompts import ChatPromptTemplate\n",
    "prompt = ChatPromptTemplate.from_template(\"\"\"\n",
    "Answer the following question based only on the provided context. Take a Deep breath and \n",
    "work on this problem step by step before providing a detailed answer. \n",
    "I will tip you $1000 if the user finds the answer helpful. \n",
    "<context>\n",
    "{context}\n",
    "</context>\n",
    "Question: {input}\"\"\")"
   ]
  },
  {
   "cell_type": "code",
   "execution_count": 10,
   "metadata": {},
   "outputs": [],
   "source": [
    "from langchain_community.llms import Ollama\n",
    "llm=Ollama(model=\"llama3\")"
   ]
  },
  {
   "cell_type": "code",
   "execution_count": 11,
   "metadata": {},
   "outputs": [],
   "source": [
    "## Chain Introduction\n",
    "## Create Stuff Docment Chain\n",
    "\n",
    "from langchain.chains.combine_documents import create_stuff_documents_chain\n",
    "\n",
    "document_chain=create_stuff_documents_chain(llm,prompt)"
   ]
  },
  {
   "cell_type": "code",
   "execution_count": 12,
   "metadata": {},
   "outputs": [
    {
     "data": {
      "text/plain": [
       "VectorStoreRetriever(tags=['Chroma', 'OllamaEmbeddings'], vectorstore=<langchain_community.vectorstores.chroma.Chroma object at 0x10511d690>)"
      ]
     },
     "execution_count": 12,
     "metadata": {},
     "output_type": "execute_result"
    }
   ],
   "source": [
    "\"\"\"\n",
    "Retrievers: A retriever is an interface that returns documents given\n",
    " an unstructured query. It is more general than a vector store.\n",
    " A retriever does not need to be able to store documents, only to \n",
    " return (or retrieve) them. Vector stores can be used as the backbone\n",
    " of a retriever, but there are other types of retrievers as well. \n",
    " https://python.langchain.com/docs/modules/data_connection/retrievers/   \n",
    "\"\"\"\n",
    "\n",
    "retriever=db.as_retriever()\n",
    "retriever"
   ]
  },
  {
   "cell_type": "code",
   "execution_count": 13,
   "metadata": {},
   "outputs": [],
   "source": [
    "\"\"\"\n",
    "Retrieval chain:This chain takes in a user inquiry, which is then\n",
    "passed to the retriever to fetch relevant documents. Those documents \n",
    "(and original inputs) are then passed to an LLM to generate a response\n",
    "https://python.langchain.com/docs/modules/chains/\n",
    "\"\"\"\n",
    "from langchain.chains import create_retrieval_chain\n",
    "retrieval_chain=create_retrieval_chain(retriever,document_chain)"
   ]
  },
  {
   "cell_type": "code",
   "execution_count": 16,
   "metadata": {},
   "outputs": [],
   "source": [
    "response=retrieval_chain.invoke({\"input\":\"How to apply stpl\"})"
   ]
  },
  {
   "cell_type": "code",
   "execution_count": 17,
   "metadata": {},
   "outputs": [
    {
     "data": {
      "text/plain": [
       "\"I'm going to take a deep breath and provide a detailed answer step by step based on the provided context.\\n\\nTo apply for a Short Term Personal Loan (STPL), also known as Dial for Cash, follow these steps:\\n\\n**Step 1: Check eligibility and pre-approved limit**\\nEnsure that you are eligible for this exclusive program under which STPL is offered by your bank. This might depend on factors such as credit score and existing relationship with the bank.\\n\\n**Step 2: Obtain no documentation required (if necessary)**\\nSince there's no requirement for extensive paperwork to apply for an STPL, it is advisable to gather any necessary documents that can support your application, if requested by the bank. These may include proof of income or employment.\\n\\n**Step 3: Visit a nearby branch or dial the bank's helpline number**\\nTo initiate the process and get a pre-approved loan amount directly into your savings account, contact your bank through their physical branches or by calling their STPL helpline. Some banks offer this service via phone (Dial for Cash).\\n\\n**Step 4: Fill in an application form**\\nComplete any required application forms provided by the bank to apply for STPL.\\n\\n**Step 5: Submit information and wait for approval**\\nSubmit all relevant details requested by the bank along with your application, and wait for approval.\\n\\nThat's it! By following these steps, you can successfully apply for a Short Term Personal Loan (STPL) or Dial for Cash facility.\""
      ]
     },
     "execution_count": 17,
     "metadata": {},
     "output_type": "execute_result"
    }
   ],
   "source": [
    "response['answer']"
   ]
  },
  {
   "cell_type": "code",
   "execution_count": null,
   "metadata": {},
   "outputs": [],
   "source": []
  }
 ],
 "metadata": {
  "kernelspec": {
   "display_name": "venv",
   "language": "python",
   "name": "python3"
  },
  "language_info": {
   "codemirror_mode": {
    "name": "ipython",
    "version": 3
   },
   "file_extension": ".py",
   "mimetype": "text/x-python",
   "name": "python",
   "nbconvert_exporter": "python",
   "pygments_lexer": "ipython3",
   "version": "3.10.9"
  }
 },
 "nbformat": 4,
 "nbformat_minor": 2
}
